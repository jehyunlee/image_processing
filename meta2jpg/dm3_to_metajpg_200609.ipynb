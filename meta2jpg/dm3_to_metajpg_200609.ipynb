{
 "cells": [
  {
   "cell_type": "markdown",
   "metadata": {},
   "source": [
    "# TEM(.dm3) and SEM(.tif) to .jpg with metadata\n",
    "\n",
    "* hyperspy : http://hyperspy.org/hyperspy-doc/current/user_guide/getting_started.html#starting-hyperspy-in-the-notebook-or-terminal\n",
    "* scikit-image (>=0.14.2) : https://scikit-image.org/\n",
    "* piexif : https://github.com/hMatoba/Piexif\n",
    "* Pillow : https://pillow.readthedocs.io/en/stable/\n",
    "* matplotlib-scalebar : https://github.com/ppinard/matplotlib-scalebar"
   ]
  },
  {
   "cell_type": "markdown",
   "metadata": {},
   "source": [
    "### 1. Import libararies"
   ]
  },
  {
   "cell_type": "code",
   "execution_count": 1,
   "metadata": {},
   "outputs": [
    {
     "name": "stderr",
     "output_type": "stream",
     "text": [
      "/opt/conda/lib/python3.7/site-packages/statsmodels/tools/_testing.py:19: FutureWarning: pandas.util.testing is deprecated. Use the functions in the public API at pandas.testing instead.\n",
      "  import pandas.util.testing as tm\n"
     ]
    }
   ],
   "source": [
    "# Import libaries\n",
    "\n",
    "import numpy as np\n",
    "import matplotlib\n",
    "import matplotlib.pyplot as plt\n",
    "import skimage\n",
    "import hyperspy.api as hs\n",
    "import hyperspy.drawing.image as hsi\n",
    "import os, copy\n",
    "from PIL import Image\n",
    "from PIL.TiffTags import TAGS\n",
    "import json\n",
    "\n",
    "%matplotlib inline\n",
    "#%matplotlib qt for GUI image output"
   ]
  },
  {
   "cell_type": "markdown",
   "metadata": {},
   "source": [
    "### 2. Doing chores"
   ]
  },
  {
   "cell_type": "code",
   "execution_count": 2,
   "metadata": {},
   "outputs": [],
   "source": [
    "# turn off hyperspy warning signs\n",
    "\n",
    "hs.preferences.GUIs.warn_if_guis_are_missing = False\n",
    "hs.preferences.save()"
   ]
  },
  {
   "cell_type": "code",
   "execution_count": 3,
   "metadata": {},
   "outputs": [
    {
     "name": "stdout",
     "output_type": "stream",
     "text": [
      "/workplace/01_KIER_Computational/04_Projects/2018_나노소재기술개발사업나노소재원천기술개발/190618_ImageMetadata\n"
     ]
    }
   ],
   "source": [
    "# find working directory\n",
    "\n",
    "pwd = os.getcwd()\n",
    "print(pwd)"
   ]
  },
  {
   "cell_type": "markdown",
   "metadata": {},
   "source": [
    "### 3. Function : Metadata Extraction\n",
    "\n",
    "- input : input file name\n",
    "- output : metadata (dictionary type)"
   ]
  },
  {
   "cell_type": "code",
   "execution_count": 4,
   "metadata": {},
   "outputs": [],
   "source": [
    "def extmeta_dm3(infilename):\n",
    "  \n",
    "  im = hs.load(infilename)\n",
    "  # File name\n",
    "  filename = im.metadata.General.original_filename\n",
    "\n",
    "  # Instrument\n",
    "  microscope = im.original_metadata.ImageList.TagGroup0.ImageTags.Microscope_Info.Microscope\n",
    "  mode_acq = im.metadata.Acquisition_instrument.TEM.acquisition_mode\n",
    "  mode_img = im.original_metadata.ImageList.TagGroup0.ImageTags.Microscope_Info.Imaging_Mode\n",
    "  beam_nrg = im.metadata.Acquisition_instrument.TEM.beam_energy\n",
    "\n",
    "  # Acquisition\n",
    "  acq_date = im.original_metadata.ImageList.TagGroup0.ImageTags.DataBar.Acquisition_Date\n",
    "  acq_time = im.original_metadata.ImageList.TagGroup0.ImageTags.DataBar.Acquisition_Time\n",
    "  exp_time = im.original_metadata.ImageList.TagGroup0.ImageTags.DataBar.Exposure_Time_s\n",
    "  intensity_max = im.original_metadata.ImageList.TagGroup0.ImageTags.Acquisition.Frame.Intensity.Range.Maximum_Value_counts\n",
    "  intensity_min = im.original_metadata.ImageList.TagGroup0.ImageTags.Acquisition.Frame.Intensity.Range.Minimum_Value_counts\n",
    "\n",
    "  # Image\n",
    "  mag = im.metadata.Acquisition_instrument.TEM.magnification\n",
    "  binning = im.original_metadata.ImageList.TagGroup0.ImageTags.Acquisition.Frame.Area.Transform.Transform_List.TagGroup0.Binning\n",
    "  #intensity_max = im.original_metadata.ImageList.TagGroup0.ImageTags.Acquisition.Frame.Intensity.Range.Mininum_Value\n",
    "\n",
    "  scale_x = im.original_metadata.ImageList.TagGroup0.ImageData.Calibrations.Dimension.TagGroup0.Scale\n",
    "  scale_y = im.original_metadata.ImageList.TagGroup0.ImageData.Calibrations.Dimension.TagGroup1.Scale\n",
    "  scale_unit = im.original_metadata.ImageList.TagGroup0.ImageData.Calibrations.Dimension.TagGroup0.Units\n",
    "  if scale_unit == '\\u00b5m':\n",
    "    scale_unit = 'um'\n",
    "\n",
    "  dim_x = im.original_metadata.ImageList.TagGroup0.ImageData.Dimensions.Data0\n",
    "  dim_y = im.original_metadata.ImageList.TagGroup0.ImageData.Dimensions.Data1\n",
    "\n",
    "  #------------------------\n",
    "  print('#----------------------')\n",
    "  print('Filename= {}'.format(filename))\n",
    "  print('- Date= {}'.format(acq_date))\n",
    "  print('- Time= {}\\n'.format(acq_time))\n",
    "\n",
    "  print('Microscope= {}'.format(microscope))\n",
    "  print('- Acquisition Mode= {}'.format(mode_acq))\n",
    "  print('- Imaging Mode= {}'.format(mode_img))\n",
    "  print('- Bean energy= {} kV'.format(beam_nrg))\n",
    "  print('- Exposure Time= {} s\\n'.format(exp_time))\n",
    "  print('- Max Intensity= {} counts'.format(intensity_max))\n",
    "  print('- Min Intensity= {} counts'.format(intensity_min))\n",
    "\n",
    "  print('- Magnification= x{:4d}'.format(int(mag)))\n",
    "  print('- Binning= {}'.format(binning))\n",
    "  print('- Scale (x,y)= ({:2.4f}, {:2.4f})'.format(scale_x, scale_y))\n",
    "  print('- Scale Units= {}'.format(scale_unit))\n",
    "  print('- Dimension (x,y)= ({:4d}, {:4d})'.format(dim_x, dim_y))\n",
    "\n",
    "  scale_key = 'scale (({:})/px)'.format(scale_unit)\n",
    "\n",
    "  imgdata = {\n",
    "    'Filename': filename,\n",
    "    'Acq.Date': acq_date,\n",
    "    'Acq.Time': acq_time,\n",
    "    'Microscope': microscope,\n",
    "    'Acq.Mode': mode_acq,\n",
    "    'Imaging Mode': mode_img,\n",
    "    'Beam Energy(kV)': beam_nrg,\n",
    "    'Exposure Time(s)': exp_time,\n",
    "    'Max Intensity (count)': intensity_max,\n",
    "    'Min Intensity (count)': intensity_min,\n",
    "    'Magnification (X)': mag,\n",
    "    'Binning': binning,\n",
    "  #  scale_key: (scale_x, scale_y),\n",
    "    'scale' : (scale_x, scale_y),\n",
    "    'scale_unit' : scale_unit,\n",
    "    'dimension (px,px)': (dim_x, dim_y),\n",
    "    'image size (px,px)': (dim_x, dim_y)    # for dm3 file, no additional area is assumed\n",
    "  }\n",
    "\n",
    "  return imgdata"
   ]
  },
  {
   "cell_type": "code",
   "execution_count": 11,
   "metadata": {},
   "outputs": [],
   "source": [
    "# get metadata from tif file, for the case of many empty items.\n",
    "def getmeta_tif(meta_dict: dict, cat1: str, cat2: str):\n",
    "  if meta_dict.get(cat1) != None:\n",
    "    if meta_dict.get(cat1).get(cat2) != None and meta_dict.get(cat1).get(cat2) != '':\n",
    "      return meta_dict.get(cat1).get(cat2)\n",
    "    else:\n",
    "      return None\n",
    "  else:\n",
    "    return None\n",
    "\n",
    "  \n",
    "#  convert metadata as float type, if it is not None \n",
    "def getmetaf_tif(meta_dict: dict, cat1: str, cat2: str):\n",
    "  tmpmeta = getmeta_tif(meta_dict, cat1, cat2)\n",
    "  return np.nan if (tmpmeta == None) else float(tmpmeta) \n",
    "\n",
    "\n",
    "# extract metadata from SEM tif file\n",
    "def extmeta_tif(infilename):\n",
    "  \n",
    "  with Image.open(infilename) as img:\n",
    "    meta = img.tag\n",
    "    meta_data = meta[34682]\n",
    "    meta_dim = [meta[256][0], meta[257][0]]\n",
    "\n",
    "  result = meta_data\n",
    "  result = meta_data[0].replace('\\r', '\", ') \n",
    "  result = result.replace('\\n', ' \"')\n",
    "  result = result.replace('=', '\" : \"')\n",
    "  result = result.replace(']\", ', '\" : {')\n",
    "  result = result.replace(',  \"\",  \"[', '}, \"')\n",
    "  result = result.replace('[', '\"')\n",
    "  result = result.replace(',  \"\",  \"', '}')\n",
    "\n",
    "  if result[-4:] == ',  \"':\n",
    "    result = result[:-4] + '}'\n",
    "  \n",
    "  result = '{' + result + '}'\n",
    "  meta_dict = json.loads(result)  \n",
    "    \n",
    "  filename = infilename.split('/')[-1]\n",
    "  \n",
    "  acq_date = getmeta_tif(meta_dict, 'User', 'Date')\n",
    "  acq_time = getmeta_tif(meta_dict, 'User', 'Time')\n",
    "  microscope = getmeta_tif(meta_dict, 'System', 'Type')\n",
    "  mode_acq = getmeta_tif(meta_dict, 'Detectors', 'Mode')\n",
    "  mode_img = getmeta_tif(meta_dict, 'Beam', 'ImageMode')\n",
    "  \n",
    "  beam_nrg = getmetaf_tif(meta_dict, 'Beam', 'HV') / 1000 \n",
    "  beam_cur_1 = getmeta_tif(meta_dict, 'Beam', 'BeamCurrent')\n",
    "  beam_cur_2 = getmeta_tif(meta_dict, 'EBeam', 'BeamCurrent')\n",
    "  if beam_cur_1 != None:\n",
    "    beam_cur = float(beam_cur_1) * 1e12\n",
    "  elif beam_cur_2 != None:\n",
    "    beam_cur = float(beam_cur_2) * 1e12\n",
    "  else:\n",
    "    beam_cur = None\n",
    "  \n",
    "  spot_size = getmetaf_tif(meta_dict, 'Beam', 'Spot')\n",
    "  \n",
    "  landing_nrg_1 = getmeta_tif(meta_dict, 'CathodeLens', 'LandingEnergy')\n",
    "  landing_nrg_2 = getmeta_tif(meta_dict, 'EBeamDeceleration', 'LandingEnergy')\n",
    "  if landing_nrg_1 != None:\n",
    "    landing_nrg = float(landing_nrg_1) / 1000\n",
    "  elif landing_nrg_2 != None:\n",
    "    landing_nrg = float(landing_nrg_2) / 1000\n",
    "  else:\n",
    "    landing_nrg = None\n",
    "  \n",
    "  dwell_time = getmetaf_tif(meta_dict, 'Scan', 'Dwelltime') * 1e9\n",
    "  frame_time = getmetaf_tif(meta_dict, 'Scan', 'FrameTime')\n",
    "  scale_x = getmetaf_tif(meta_dict, 'Scan', 'PixelWidth') * 1e9\n",
    "  scale_y = getmetaf_tif(meta_dict, 'Scan', 'PixelHeight') * 1e9\n",
    "  scale_unit = 'nm'\n",
    "  scale_key = 'scale (nm/px)'\n",
    "  len_x = getmetaf_tif(meta_dict, 'Scan', 'HorFieldsize') * 1e6\n",
    "  len_y = getmetaf_tif(meta_dict, 'Scan', 'VerFieldsize') * 1e6\n",
    "  image_avg = getmetaf_tif(meta_dict, 'Image', 'Average')\n",
    "  dim_x = int(getmetaf_tif(meta_dict, 'Image', 'ResolutionX'))\n",
    "  dim_y = int(getmetaf_tif(meta_dict, 'Image', 'ResolutionY'))\n",
    "  \n",
    "  stage_x = getmetaf_tif(meta_dict, 'Stage', 'StageX') * 1e3\n",
    "  stage_y = getmetaf_tif(meta_dict, 'Stage', 'StageY') * 1e3\n",
    "  stage_z = getmetaf_tif(meta_dict, 'Stage', 'StageZ') * 1e3\n",
    "  stage_r = getmetaf_tif(meta_dict, 'Stage', 'StageR')\n",
    "  stage_ta = getmetaf_tif(meta_dict, 'Stage', 'StageT')\n",
    "  stage_tb = getmetaf_tif(meta_dict, 'Stage', 'StageTb')\n",
    "  \n",
    "  stage_tilt = getmetaf_tif(meta_dict, 'Stage', 'SpecTilt')\n",
    "  work_dist = getmetaf_tif(meta_dict, 'Stage', 'WorkingDistance') * 1e3\n",
    "  \n",
    "  img_dim = meta_dim\n",
    "  \n",
    "  imgdata = {\n",
    "    'Filename': filename,\n",
    "    'Acq.Date': acq_date,\n",
    "    'Acq.Time': acq_time,\n",
    "    'Microscope': microscope,\n",
    "    'Acq.Mode': mode_acq,\n",
    "    'Imaging Mode': mode_img,\n",
    "    'Beam Energy (kV)': beam_nrg,\n",
    "    'Beam Current (pA)' : beam_cur,\n",
    "    'Landing Energy (kV)' : landing_nrg,\n",
    "    'Spot Size (nm)' : spot_size,\n",
    "    'Dwell time (ns)':dwell_time,   \n",
    "    'Frame Time (s)': frame_time,\n",
    "    'Image Average': image_avg,\n",
    "    'Stage X (mm)': stage_x,\n",
    "    'Stage Y (mm)': stage_y,\n",
    "    'Stage Z (mm)': stage_z,\n",
    "    'Stage Rotation (deg)': stage_r,\n",
    "    'Stage Tilt-alpha (deg)': stage_ta,\n",
    "    'Stage Tilt-beta (deg)': stage_tb,\n",
    "    'Stage Tilt (deg)': stage_tilt,\n",
    "    'Working Distance (mm)': work_dist,\n",
    "    'scale' : (scale_x, scale_y),\n",
    "    'scale_unit' : scale_unit,\n",
    "    'dimension (um,um)': (len_x, len_y),\n",
    "    'dimension (px,px)': (dim_x, dim_y),\n",
    "    'image size (px,px)': (meta_dim[0], meta_dim[1])\n",
    "  }\n",
    "\n",
    "  return imgdata"
   ]
  },
  {
   "cell_type": "code",
   "execution_count": 6,
   "metadata": {},
   "outputs": [],
   "source": [
    "# extract metadata from .dm3 or .tif file\n",
    "\n",
    "def extmeta(infilename):\n",
    "  \n",
    "  if infilename[-3:] == 'dm3': \n",
    "    return extmeta_dm3(infilename)\n",
    "  \n",
    "  elif infilename[-3:] == 'tif' or infilename[-4:] == 'tiff':\n",
    "    return extmeta_tif(infilename)"
   ]
  },
  {
   "cell_type": "markdown",
   "metadata": {},
   "source": [
    "### 4. Function : Image Processing \n",
    "\n",
    "* Here, simple Auto-Contrast Adjustment"
   ]
  },
  {
   "cell_type": "code",
   "execution_count": 7,
   "metadata": {},
   "outputs": [],
   "source": [
    "from skimage.io import imsave, imshow, imread\n",
    "from skimage import exposure\n",
    "from matplotlib_scalebar.scalebar import ScaleBar\n",
    "from matplotlib_scalebar.scalebar import SI_LENGTH_RECIPROCAL\n",
    "from copy import deepcopy\n",
    "\n",
    "# define scale bar color: black or white\n",
    "def sb_color(img):\n",
    "  imga = np.array(img)\n",
    "  \n",
    "  bl = imga.shape\n",
    "  bl_row = int(bl[0] * 0.9)\n",
    "  bl_col = int(bl[1] * 0.1)\n",
    "  \n",
    "  bl_box = imga[bl_row:, :bl_col]\n",
    "  bl_box_mean = bl_box.mean()\n",
    "  \n",
    "  if bl_box_mean < 128:\n",
    "    return 'w'\n",
    "  else:\n",
    "    return 'k'\n",
    "  \n",
    "  \n",
    "# add scale on image\n",
    "def addscale(img, imgdata, outfile, scale_value='auto'):    # Add Scalebar on TEM  Image\n",
    "  \n",
    "  # extract scale bar and scale unit\n",
    "  scale_x = imgdata['scale'][0]\n",
    "  scale_y = imgdata['scale'][1]\n",
    "  scale_ratio = scale_y/scale_x\n",
    "  scale_unit = imgdata['scale_unit']\n",
    "  dimension = imgdata['dimension (px,px)']\n",
    "\n",
    "  # image prepration for new image  \n",
    "  imga = np.array(img)\n",
    "  color = sb_color(imga)    # color of scale bar\n",
    "  dpi = 1000\n",
    "\n",
    "  fig = plt.figure(figsize=(dimension[0]/dpi, dimension[1]/dpi), frameon=False)\n",
    "  ax = fig.add_axes([0, 0, 1, 1])\n",
    "  ax.axis('off')\n",
    "  location = 'lower left'\n",
    "  frameon = False\n",
    "  \n",
    "  # find optimum scale bar value\n",
    "  scvs = np.array([1, 2, 5, 10, 20, 50, 100, 200, 500])    # scale bar candidates\n",
    "  scvs_px = scvs / imgdata['scale'][0] \n",
    "  rel_len = imgdata['image size (px,px)'][1] *0.2     # scale bar should close to 20% of image width\n",
    "  scale_value = scvs[np.argmin(abs(scvs_px - rel_len))]\n",
    "  print('scale_value= {}'.format(scale_value))\n",
    "\n",
    "  if scale_unit[0] == '1':    # reciporcal space, such as 1/nm\n",
    "    scalebar = ScaleBar(scale_x, scale_unit, SI_LENGTH_RECIPROCAL, \n",
    "                        location=location, \n",
    "                        frameon=frameon,\n",
    "                        color=color,\n",
    "                        fixed_value=scale_value\n",
    "                       )\n",
    "  else:        # real space\n",
    "    scalebar = ScaleBar(scale_x, scale_unit,\n",
    "                        location=location,\n",
    "                        frameon=frameon,\n",
    "                        color=color,\n",
    "                        fixed_value=scale_value\n",
    "                       )\n",
    "\n",
    "  plt.imshow(imga)\n",
    "  plt.gca().add_artist(scalebar)\n",
    "  plt.savefig(outfile, dpi=dpi)\n",
    "  \n",
    "  return outfile\n",
    "  \n",
    "\n",
    "# Image Processing and Add Scalebar\n",
    "def imgproc(infilename, imgdata):    \n",
    "\n",
    "  outdir = pwd + '/output.dir/' + infilename.split('/')[-2]\n",
    "  outfile = pwd + '/output.dir/' + infilename.split('/')[0] + '/' + imgdata['Filename'][:-4] + '.jpg'\n",
    "  outfile_sb = pwd + '/output.dir/' + infilename.split('/')[0] + '/' + imgdata['Filename'][:-4] + '_sb.jpg'\n",
    "    \n",
    "  # load image as numpy 2D array\n",
    "  if infilename[-3:] == 'dm3':\n",
    "    im = hs.load(infilename)\n",
    "    img = im.data\n",
    "  \n",
    "  elif infilename[-4:] == 'tiff' or infilename[-3:] == 'tif':\n",
    "    img = imread(infilename)   \n",
    "    \n",
    "    if isinstance(img[0][0], list):   # for the case of RGB image,\n",
    "      img = img[:, :, 0]                     # pick only R channel\n",
    "    \n",
    "  # if additional area is added on image, crop that out\n",
    "  slice_flag= 0\n",
    "  if (infilename[-4:] == 'tiff' or infilename[-3:] == 'tif') and (imgdata['image size (px,px)'] != imgdata['dimension (px,px)']):\n",
    "    slice_flag = 1\n",
    "    img_main = img[: imgdata['dimension (px,px)'][1], : imgdata['dimension (px,px)'][0]]\n",
    "    img_sub = img[imgdata['dimension (px,px)'][1] : ,  : imgdata['dimension (px,px)'][0]]\n",
    "    img = copy.deepcopy(img_main)\n",
    "  \n",
    "  # Auto contrast\n",
    "  v_min, v_max = np.percentile(img, (0.2, 99.8))\n",
    "  img = exposure.rescale_intensity(img, in_range=(v_min, v_max), out_range=(0, 255)).astype(np.uint8)\n",
    "  if slice_flag == 1:\n",
    "    img_sub = exposure.rescale_intensity(img_sub, out_range=(0, 255)).astype(np.uint8)\n",
    "  \n",
    "  # if splitted, restore\n",
    "  if slice_flag == 1:\n",
    "    img_sb = np.vstack((img, img_sub))\n",
    "  else:\n",
    "    img_sb = copy.deepcopy(img)\n",
    "\n",
    "  if not os.path.exists(outdir):\n",
    "    os.mkdir(outdir)  \n",
    "    \n",
    "  print('# Outfile = {}'.format(outfile))\n",
    "  \n",
    "  imsave(outfile, img)\n",
    "  imsave(outfile_sb, img_sb)\n",
    "  \n",
    "  if slice_flag != 1:\n",
    "      outfile_sb = addscale(img, imgdata, outfile_sb, scale_value='auto')\n",
    "\n",
    "  return outfile, outfile_sb"
   ]
  },
  {
   "cell_type": "markdown",
   "metadata": {},
   "source": [
    "### 5. Function : Add Metadata and Export Image\n",
    "\n",
    "* Edit metadata on .jpg file"
   ]
  },
  {
   "cell_type": "code",
   "execution_count": 8,
   "metadata": {},
   "outputs": [],
   "source": [
    "from PIL import Image\n",
    "import json\n",
    "import piexif\n",
    "import piexif.helper\n",
    "\n",
    "def addmeta(infilename, imgdata):\n",
    "  if infilename != None:\n",
    "    # Load image to edit\n",
    "    imPIL = Image.open(infilename)\n",
    "\n",
    "    # For unknown reason, this line prevents strange image shift\n",
    "    imPIL.save(infilename)    \n",
    "    imgdump = json.dumps(imgdata)\n",
    "    user_comment = piexif.helper.UserComment.dump(imgdump)\n",
    "\n",
    "    # extract Exif data from image\n",
    "    exif_dict = piexif.load(infilename)\n",
    "    exif_dict[\"Exif\"][piexif.ExifIFD.UserComment] = user_comment\n",
    "    exif_bytes = piexif.dump(exif_dict)\n",
    "    piexif.insert(exif_bytes, infilename)\n",
    "    #print(exif_bytes)\n",
    "\n",
    "    imPIL.save(infilename, exif=exif_bytes)\n",
    "    plt.imshow(np.asarray(imPIL));\n",
    "    plt.close()"
   ]
  },
  {
   "cell_type": "markdown",
   "metadata": {},
   "source": [
    "### 7. Run on all .dm3 and .tif files\n"
   ]
  },
  {
   "cell_type": "code",
   "execution_count": 12,
   "metadata": {},
   "outputs": [
    {
     "name": "stdout",
     "output_type": "stream",
     "text": [
      "### directory= JehyunTEM\n",
      "### file= 20110124-TR109-CS_02-DF01d.dm3\n",
      "#----------------------\n",
      "Filename= 20110124-TR109-CS_02-DF01d.dm3\n",
      "- Date= 24.01.2011\n",
      "- Time= 15:29:42\n",
      "\n",
      "Microscope= FegTEM\n",
      "- Acquisition Mode= TEM\n",
      "- Imaging Mode= IMAGING\n",
      "- Bean energy= 200.0 kV\n",
      "- Exposure Time= 5.0 s\n",
      "\n",
      "- Max Intensity= 16383.0 counts\n",
      "- Min Intensity= 0.0 counts\n",
      "- Magnification= x43000\n",
      "- Binning= (1, 1)\n",
      "- Scale (x,y)= (0.1521, 0.1521)\n",
      "- Scale Units= nm\n",
      "- Dimension (x,y)= (2688, 2672)\n",
      "###### infilename JehyunTEM/20110124-TR109-CS_02-DF01d.dm3\n",
      "###### Filename 20110124-TR109-CS_02-DF01d.dm3\n",
      "# Outfile = /workplace/01_KIER_Computational/04_Projects/2018_나노소재기술개발사업나노소재원천기술개발/190618_ImageMetadata/output.dir/JehyunTEM/20110124-TR109-CS_02-DF01d.jpg\n",
      "scale_value= 100\n",
      "### file= 20110329-TR118-PV_01-BF01.dm3\n",
      "#----------------------\n",
      "Filename= 20110329-TR118-PV_01-BF01.dm3\n",
      "- Date= 29.03.2011\n",
      "- Time= 10:23:47\n",
      "\n",
      "Microscope= []\n",
      "- Acquisition Mode= TEM\n",
      "- Imaging Mode= IMAGING\n",
      "- Bean energy= 200.0 kV\n",
      "- Exposure Time= 1.0 s\n",
      "\n",
      "- Max Intensity= 16383.0 counts\n",
      "- Min Intensity= 0.0 counts\n",
      "- Magnification= x71000\n",
      "- Binning= (1, 1)\n",
      "- Scale (x,y)= (0.1045, 0.1045)\n",
      "- Scale Units= nm\n",
      "- Dimension (x,y)= (2688, 2672)\n",
      "###### infilename JehyunTEM/20110329-TR118-PV_01-BF01.dm3\n",
      "###### Filename 20110329-TR118-PV_01-BF01.dm3\n",
      "# Outfile = /workplace/01_KIER_Computational/04_Projects/2018_나노소재기술개발사업나노소재원천기술개발/190618_ImageMetadata/output.dir/JehyunTEM/20110329-TR118-PV_01-BF01.jpg\n",
      "scale_value= 50\n",
      "### file= 20110329-TR118-PV_01-SADP01.dm3\n",
      "#----------------------\n",
      "Filename= 20110329-TR118-PV_01-SADP01.dm3\n",
      "- Date= 29.03.2011\n",
      "- Time= 10:10:50\n",
      "\n",
      "Microscope= []\n",
      "- Acquisition Mode= TEM\n",
      "- Imaging Mode= DIFFRACTION\n",
      "- Bean energy= 200.0 kV\n",
      "- Exposure Time= 1.0 s\n",
      "\n",
      "- Max Intensity= 16383.0 counts\n",
      "- Min Intensity= 0.0 counts\n",
      "- Magnification= x 300\n",
      "- Binning= (2, 2)\n",
      "- Scale (x,y)= (0.0174, 0.0174)\n",
      "- Scale Units= 1/nm\n",
      "- Dimension (x,y)= (1344, 1336)\n",
      "###### infilename JehyunTEM/20110329-TR118-PV_01-SADP01.dm3\n",
      "###### Filename 20110329-TR118-PV_01-SADP01.dm3\n",
      "# Outfile = /workplace/01_KIER_Computational/04_Projects/2018_나노소재기술개발사업나노소재원천기술개발/190618_ImageMetadata/output.dir/JehyunTEM/20110329-TR118-PV_01-SADP01.jpg\n",
      "scale_value= 5\n"
     ]
    },
    {
     "name": "stderr",
     "output_type": "stream",
     "text": [
      "WARNING:hyperspy.io_plugins.digital_micrograph:Time string, PM 1:47:20,  could not be parsed\n"
     ]
    },
    {
     "name": "stdout",
     "output_type": "stream",
     "text": [
      "### directory= MnS#1\n",
      "### file= 1000X-0012(MnS alpha).dm3\n",
      "#----------------------\n",
      "Filename= 1000X-0012(MnS alpha).dm3\n",
      "- Date= 2018-12-27\n",
      "- Time= PM 1:47:20\n",
      "\n",
      "Microscope= JEM 3010\n",
      "- Acquisition Mode= TEM\n",
      "- Imaging Mode= DIFF\n",
      "- Bean energy= 300.0 kV\n",
      "- Exposure Time= 1.0 s\n",
      "\n",
      "- Max Intensity= 16383.0 counts\n",
      "- Min Intensity= -99.0 counts\n",
      "- Magnification= x1000\n",
      "- Binning= (2, 2)\n",
      "- Scale (x,y)= (0.0120, 0.0120)\n",
      "- Scale Units= 1/nm\n",
      "- Dimension (x,y)= (2000, 2000)\n",
      "###### infilename MnS#1/1000X-0012(MnS alpha).dm3\n",
      "###### Filename 1000X-0012(MnS alpha).dm3\n"
     ]
    },
    {
     "name": "stderr",
     "output_type": "stream",
     "text": [
      "WARNING:hyperspy.io_plugins.digital_micrograph:Time string, PM 1:47:20,  could not be parsed\n"
     ]
    },
    {
     "name": "stdout",
     "output_type": "stream",
     "text": [
      "# Outfile = /workplace/01_KIER_Computational/04_Projects/2018_나노소재기술개발사업나노소재원천기술개발/190618_ImageMetadata/output.dir/MnS#1/1000X-0012(MnS alpha).jpg\n",
      "scale_value= 5\n"
     ]
    },
    {
     "name": "stderr",
     "output_type": "stream",
     "text": [
      "WARNING:hyperspy.io_plugins.digital_micrograph:Time string, PM 1:49:40,  could not be parsed\n",
      "WARNING:hyperspy.io_plugins.digital_micrograph:Time string, PM 1:49:40,  could not be parsed\n"
     ]
    },
    {
     "name": "stdout",
     "output_type": "stream",
     "text": [
      "### file= 30000X-0013.dm3\n",
      "#----------------------\n",
      "Filename= 30000X-0013.dm3\n",
      "- Date= 2018-12-27\n",
      "- Time= PM 1:49:40\n",
      "\n",
      "Microscope= JEM 3010\n",
      "- Acquisition Mode= TEM\n",
      "- Imaging Mode= MAG1\n",
      "- Bean energy= 300.0 kV\n",
      "- Exposure Time= 0.5 s\n",
      "\n",
      "- Max Intensity= 16383.0 counts\n",
      "- Min Intensity= -99.0 counts\n",
      "- Magnification= x30000\n",
      "- Binning= (2, 2)\n",
      "- Scale (x,y)= (0.7519, 0.7519)\n",
      "- Scale Units= nm\n",
      "- Dimension (x,y)= (2000, 2000)\n",
      "###### infilename MnS#1/30000X-0013.dm3\n",
      "###### Filename 30000X-0013.dm3\n",
      "# Outfile = /workplace/01_KIER_Computational/04_Projects/2018_나노소재기술개발사업나노소재원천기술개발/190618_ImageMetadata/output.dir/MnS#1/30000X-0013.jpg\n",
      "scale_value= 200\n"
     ]
    },
    {
     "name": "stderr",
     "output_type": "stream",
     "text": [
      "WARNING:hyperspy.io_plugins.digital_micrograph:Time string, PM 3:09:55,  could not be parsed\n"
     ]
    },
    {
     "name": "stdout",
     "output_type": "stream",
     "text": [
      "### directory= MnS#2\n",
      "### file= 1000X-0036(maybe MnS alhpha and weak MnS2 1104).dm3\n",
      "#----------------------\n",
      "Filename= 1000X-0036(maybe MnS alhpha and weak MnS2 1104).dm3\n",
      "- Date= 2019-01-03\n",
      "- Time= PM 3:09:55\n",
      "\n",
      "Microscope= JEM 3010\n",
      "- Acquisition Mode= TEM\n",
      "- Imaging Mode= DIFF\n",
      "- Bean energy= 300.0 kV\n",
      "- Exposure Time= 1.0 s\n",
      "\n",
      "- Max Intensity= 16383.0 counts\n",
      "- Min Intensity= -99.0 counts\n",
      "- Magnification= x1000\n",
      "- Binning= (2, 2)\n",
      "- Scale (x,y)= (0.0120, 0.0120)\n",
      "- Scale Units= 1/nm\n",
      "- Dimension (x,y)= (2000, 2000)\n",
      "###### infilename MnS#2/1000X-0036(maybe MnS alhpha and weak MnS2 1104).dm3\n",
      "###### Filename 1000X-0036(maybe MnS alhpha and weak MnS2 1104).dm3\n"
     ]
    },
    {
     "name": "stderr",
     "output_type": "stream",
     "text": [
      "WARNING:hyperspy.io_plugins.digital_micrograph:Time string, PM 3:09:55,  could not be parsed\n"
     ]
    },
    {
     "name": "stdout",
     "output_type": "stream",
     "text": [
      "# Outfile = /workplace/01_KIER_Computational/04_Projects/2018_나노소재기술개발사업나노소재원천기술개발/190618_ImageMetadata/output.dir/MnS#2/1000X-0036(maybe MnS alhpha and weak MnS2 1104).jpg\n",
      "scale_value= 5\n"
     ]
    },
    {
     "name": "stderr",
     "output_type": "stream",
     "text": [
      "WARNING:hyperspy.io_plugins.digital_micrograph:Time string, PM 3:09:01,  could not be parsed\n"
     ]
    },
    {
     "name": "stdout",
     "output_type": "stream",
     "text": [
      "### file= 60000X-0035.dm3\n",
      "#----------------------\n",
      "Filename= 60000X-0035.dm3\n",
      "- Date= 2019-01-03\n",
      "- Time= PM 3:09:01\n",
      "\n",
      "Microscope= JEM 3010\n",
      "- Acquisition Mode= TEM\n",
      "- Imaging Mode= MAG1\n",
      "- Bean energy= 300.0 kV\n",
      "- Exposure Time= 1.0 s\n",
      "\n",
      "- Max Intensity= 16383.0 counts\n",
      "- Min Intensity= -99.0 counts\n",
      "- Magnification= x60000\n",
      "- Binning= (2, 2)\n",
      "- Scale (x,y)= (0.3706, 0.3706)\n",
      "- Scale Units= nm\n",
      "- Dimension (x,y)= (2000, 2000)\n",
      "###### infilename MnS#2/60000X-0035.dm3\n",
      "###### Filename 60000X-0035.dm3\n"
     ]
    },
    {
     "name": "stderr",
     "output_type": "stream",
     "text": [
      "WARNING:hyperspy.io_plugins.digital_micrograph:Time string, PM 3:09:01,  could not be parsed\n"
     ]
    },
    {
     "name": "stdout",
     "output_type": "stream",
     "text": [
      "# Outfile = /workplace/01_KIER_Computational/04_Projects/2018_나노소재기술개발사업나노소재원천기술개발/190618_ImageMetadata/output.dir/MnS#2/60000X-0035.jpg\n",
      "scale_value= 100\n"
     ]
    },
    {
     "name": "stderr",
     "output_type": "stream",
     "text": [
      "WARNING:hyperspy.io_plugins.digital_micrograph:Time string, PM 10:23:14,  could not be parsed\n"
     ]
    },
    {
     "name": "stdout",
     "output_type": "stream",
     "text": [
      "### directory= MnS#4\n",
      "### file= 10000X-0007(MnS-alpha).dm3\n",
      "#----------------------\n",
      "Filename= 10000X-0007(MnS-alpha).dm3\n",
      "- Date= 2019-01-10\n",
      "- Time= PM 10:23:14\n",
      "\n",
      "Microscope= JEM 3010\n",
      "- Acquisition Mode= TEM\n",
      "- Imaging Mode= MAG1\n",
      "- Bean energy= 300.0 kV\n",
      "- Exposure Time= 1.0 s\n",
      "\n",
      "- Max Intensity= 16383.0 counts\n",
      "- Min Intensity= -99.0 counts\n",
      "- Magnification= x10000\n",
      "- Binning= (2, 2)\n",
      "- Scale (x,y)= (0.0023, 0.0023)\n",
      "- Scale Units= um\n",
      "- Dimension (x,y)= (2000, 2000)\n",
      "###### infilename MnS#4/10000X-0007(MnS-alpha).dm3\n",
      "###### Filename 10000X-0007(MnS-alpha).dm3\n"
     ]
    },
    {
     "name": "stderr",
     "output_type": "stream",
     "text": [
      "WARNING:hyperspy.io_plugins.digital_micrograph:Time string, PM 10:23:14,  could not be parsed\n"
     ]
    },
    {
     "name": "stdout",
     "output_type": "stream",
     "text": [
      "# Outfile = /workplace/01_KIER_Computational/04_Projects/2018_나노소재기술개발사업나노소재원천기술개발/190618_ImageMetadata/output.dir/MnS#4/10000X-0007(MnS-alpha).jpg\n",
      "scale_value= 1\n"
     ]
    },
    {
     "name": "stderr",
     "output_type": "stream",
     "text": [
      "WARNING:hyperspy.io_plugins.digital_micrograph:Time string, PM 10:10:09,  could not be parsed\n"
     ]
    },
    {
     "name": "stdout",
     "output_type": "stream",
     "text": [
      "### file= 1000X-0004(maybe MnS-alpha).dm3\n",
      "#----------------------\n",
      "Filename= 1000X-0004(maybe MnS-alpha).dm3\n",
      "- Date= 2019-01-10\n",
      "- Time= PM 10:10:09\n",
      "\n",
      "Microscope= JEM 3010\n",
      "- Acquisition Mode= TEM\n",
      "- Imaging Mode= DIFF\n",
      "- Bean energy= 300.0 kV\n",
      "- Exposure Time= 1.0 s\n",
      "\n",
      "- Max Intensity= 16383.0 counts\n",
      "- Min Intensity= -99.0 counts\n",
      "- Magnification= x1000\n",
      "- Binning= (2, 2)\n",
      "- Scale (x,y)= (0.0120, 0.0120)\n",
      "- Scale Units= 1/nm\n",
      "- Dimension (x,y)= (2000, 2000)\n",
      "###### infilename MnS#4/1000X-0004(maybe MnS-alpha).dm3\n",
      "###### Filename 1000X-0004(maybe MnS-alpha).dm3\n"
     ]
    },
    {
     "name": "stderr",
     "output_type": "stream",
     "text": [
      "WARNING:hyperspy.io_plugins.digital_micrograph:Time string, PM 10:10:09,  could not be parsed\n"
     ]
    },
    {
     "name": "stdout",
     "output_type": "stream",
     "text": [
      "# Outfile = /workplace/01_KIER_Computational/04_Projects/2018_나노소재기술개발사업나노소재원천기술개발/190618_ImageMetadata/output.dir/MnS#4/1000X-0004(maybe MnS-alpha).jpg\n",
      "scale_value= 5\n",
      "### file= 1000X-0005(MnS-alpha).dm3\n"
     ]
    },
    {
     "name": "stderr",
     "output_type": "stream",
     "text": [
      "WARNING:hyperspy.io_plugins.digital_micrograph:Time string, PM 10:16:56,  could not be parsed\n",
      "WARNING:hyperspy.io_plugins.digital_micrograph:Time string, PM 10:16:56,  could not be parsed\n"
     ]
    },
    {
     "name": "stdout",
     "output_type": "stream",
     "text": [
      "#----------------------\n",
      "Filename= 1000X-0005(MnS-alpha).dm3\n",
      "- Date= 2019-01-10\n",
      "- Time= PM 10:16:56\n",
      "\n",
      "Microscope= JEM 3010\n",
      "- Acquisition Mode= TEM\n",
      "- Imaging Mode= DIFF\n",
      "- Bean energy= 300.0 kV\n",
      "- Exposure Time= 1.0 s\n",
      "\n",
      "- Max Intensity= 16383.0 counts\n",
      "- Min Intensity= -99.0 counts\n",
      "- Magnification= x1000\n",
      "- Binning= (2, 2)\n",
      "- Scale (x,y)= (0.0120, 0.0120)\n",
      "- Scale Units= 1/nm\n",
      "- Dimension (x,y)= (2000, 2000)\n",
      "###### infilename MnS#4/1000X-0005(MnS-alpha).dm3\n",
      "###### Filename 1000X-0005(MnS-alpha).dm3\n",
      "# Outfile = /workplace/01_KIER_Computational/04_Projects/2018_나노소재기술개발사업나노소재원천기술개발/190618_ImageMetadata/output.dir/MnS#4/1000X-0005(MnS-alpha).jpg\n",
      "scale_value= 5\n"
     ]
    },
    {
     "name": "stderr",
     "output_type": "stream",
     "text": [
      "WARNING:hyperspy.io_plugins.digital_micrograph:Time string, PM 10:30:27,  could not be parsed\n"
     ]
    },
    {
     "name": "stdout",
     "output_type": "stream",
     "text": [
      "### file= 1000X-0012(MnS-alpha).dm3\n",
      "#----------------------\n",
      "Filename= 1000X-0012(MnS-alpha).dm3\n",
      "- Date= 2019-01-10\n",
      "- Time= PM 10:30:27\n",
      "\n",
      "Microscope= JEM 3010\n",
      "- Acquisition Mode= TEM\n",
      "- Imaging Mode= DIFF\n",
      "- Bean energy= 300.0 kV\n",
      "- Exposure Time= 1.0 s\n",
      "\n",
      "- Max Intensity= 16383.0 counts\n",
      "- Min Intensity= -99.0 counts\n",
      "- Magnification= x1000\n",
      "- Binning= (2, 2)\n",
      "- Scale (x,y)= (0.0120, 0.0120)\n",
      "- Scale Units= 1/nm\n",
      "- Dimension (x,y)= (2000, 2000)\n",
      "###### infilename MnS#4/1000X-0012(MnS-alpha).dm3\n",
      "###### Filename 1000X-0012(MnS-alpha).dm3\n"
     ]
    },
    {
     "name": "stderr",
     "output_type": "stream",
     "text": [
      "WARNING:hyperspy.io_plugins.digital_micrograph:Time string, PM 10:30:27,  could not be parsed\n"
     ]
    },
    {
     "name": "stdout",
     "output_type": "stream",
     "text": [
      "# Outfile = /workplace/01_KIER_Computational/04_Projects/2018_나노소재기술개발사업나노소재원천기술개발/190618_ImageMetadata/output.dir/MnS#4/1000X-0012(MnS-alpha).jpg\n",
      "scale_value= 5\n"
     ]
    },
    {
     "name": "stderr",
     "output_type": "stream",
     "text": [
      "WARNING:hyperspy.io_plugins.digital_micrograph:Time string, PM 10:31:10,  could not be parsed\n"
     ]
    },
    {
     "name": "stdout",
     "output_type": "stream",
     "text": [
      "### file= 25000X-0011(MnS-alpha).dm3\n",
      "#----------------------\n",
      "Filename= 25000X-0011(MnS-alpha).dm3\n",
      "- Date= 2019-01-10\n",
      "- Time= PM 10:31:10\n",
      "\n",
      "Microscope= JEM 3010\n",
      "- Acquisition Mode= TEM\n",
      "- Imaging Mode= MAG1\n",
      "- Bean energy= 300.0 kV\n",
      "- Exposure Time= 1.0 s\n",
      "\n",
      "- Max Intensity= 16383.0 counts\n",
      "- Min Intensity= -99.0 counts\n",
      "- Magnification= x25000\n",
      "- Binning= (2, 2)\n",
      "- Scale (x,y)= (0.9076, 0.9076)\n",
      "- Scale Units= nm\n",
      "- Dimension (x,y)= (2000, 2000)\n",
      "###### infilename MnS#4/25000X-0011(MnS-alpha).dm3\n",
      "###### Filename 25000X-0011(MnS-alpha).dm3\n"
     ]
    },
    {
     "name": "stderr",
     "output_type": "stream",
     "text": [
      "WARNING:hyperspy.io_plugins.digital_micrograph:Time string, PM 10:31:10,  could not be parsed\n"
     ]
    },
    {
     "name": "stdout",
     "output_type": "stream",
     "text": [
      "# Outfile = /workplace/01_KIER_Computational/04_Projects/2018_나노소재기술개발사업나노소재원천기술개발/190618_ImageMetadata/output.dir/MnS#4/25000X-0011(MnS-alpha).jpg\n",
      "scale_value= 500\n"
     ]
    },
    {
     "name": "stderr",
     "output_type": "stream",
     "text": [
      "WARNING:hyperspy.io_plugins.digital_micrograph:Time string, PM 10:33:49,  could not be parsed\n"
     ]
    },
    {
     "name": "stdout",
     "output_type": "stream",
     "text": [
      "### file= 25000X-0013(MnS-alpha).dm3\n",
      "#----------------------\n",
      "Filename= 25000X-0013(MnS-alpha).dm3\n",
      "- Date= 2019-01-10\n",
      "- Time= PM 10:33:49\n",
      "\n",
      "Microscope= JEM 3010\n",
      "- Acquisition Mode= TEM\n",
      "- Imaging Mode= MAG1\n",
      "- Bean energy= 300.0 kV\n",
      "- Exposure Time= 1.0 s\n",
      "\n",
      "- Max Intensity= 16383.0 counts\n",
      "- Min Intensity= -99.0 counts\n",
      "- Magnification= x25000\n",
      "- Binning= (2, 2)\n",
      "- Scale (x,y)= (0.9076, 0.9076)\n",
      "- Scale Units= nm\n",
      "- Dimension (x,y)= (2000, 2000)\n",
      "###### infilename MnS#4/25000X-0013(MnS-alpha).dm3\n",
      "###### Filename 25000X-0013(MnS-alpha).dm3\n"
     ]
    },
    {
     "name": "stderr",
     "output_type": "stream",
     "text": [
      "WARNING:hyperspy.io_plugins.digital_micrograph:Time string, PM 10:33:49,  could not be parsed\n"
     ]
    },
    {
     "name": "stdout",
     "output_type": "stream",
     "text": [
      "# Outfile = /workplace/01_KIER_Computational/04_Projects/2018_나노소재기술개발사업나노소재원천기술개발/190618_ImageMetadata/output.dir/MnS#4/25000X-0013(MnS-alpha).jpg\n",
      "scale_value= 500\n"
     ]
    },
    {
     "name": "stderr",
     "output_type": "stream",
     "text": [
      "WARNING:hyperspy.io_plugins.digital_micrograph:Time string, PM 10:07:17,  could not be parsed\n"
     ]
    },
    {
     "name": "stdout",
     "output_type": "stream",
     "text": [
      "### file= 30000X-0003(maybe MnS-alpha).dm3\n",
      "#----------------------\n",
      "Filename= 30000X-0003(maybe MnS-alpha).dm3\n",
      "- Date= 2019-01-10\n",
      "- Time= PM 10:07:17\n",
      "\n",
      "Microscope= JEM 3010\n",
      "- Acquisition Mode= TEM\n",
      "- Imaging Mode= MAG1\n",
      "- Bean energy= 300.0 kV\n",
      "- Exposure Time= 1.0 s\n",
      "\n",
      "- Max Intensity= 16383.0 counts\n",
      "- Min Intensity= -99.0 counts\n",
      "- Magnification= x30000\n",
      "- Binning= (2, 2)\n",
      "- Scale (x,y)= (0.7519, 0.7519)\n",
      "- Scale Units= nm\n",
      "- Dimension (x,y)= (2000, 2000)\n",
      "###### infilename MnS#4/30000X-0003(maybe MnS-alpha).dm3\n",
      "###### Filename 30000X-0003(maybe MnS-alpha).dm3\n"
     ]
    },
    {
     "name": "stderr",
     "output_type": "stream",
     "text": [
      "WARNING:hyperspy.io_plugins.digital_micrograph:Time string, PM 10:07:17,  could not be parsed\n"
     ]
    },
    {
     "name": "stdout",
     "output_type": "stream",
     "text": [
      "# Outfile = /workplace/01_KIER_Computational/04_Projects/2018_나노소재기술개발사업나노소재원천기술개발/190618_ImageMetadata/output.dir/MnS#4/30000X-0003(maybe MnS-alpha).jpg\n",
      "scale_value= 200\n"
     ]
    },
    {
     "name": "stderr",
     "output_type": "stream",
     "text": [
      "WARNING:hyperspy.io_plugins.digital_micrograph:Time string, PM 10:27:06,  could not be parsed\n"
     ]
    },
    {
     "name": "stdout",
     "output_type": "stream",
     "text": [
      "### file= 6000X-0010(MnS-alpha).dm3\n",
      "#----------------------\n",
      "Filename= 6000X-0010(MnS-alpha).dm3\n",
      "- Date= 2019-01-10\n",
      "- Time= PM 10:27:06\n",
      "\n",
      "Microscope= JEM 3010\n",
      "- Acquisition Mode= TEM\n",
      "- Imaging Mode= MAG1\n",
      "- Bean energy= 300.0 kV\n",
      "- Exposure Time= 1.0 s\n",
      "\n",
      "- Max Intensity= 16383.0 counts\n",
      "- Min Intensity= -99.0 counts\n",
      "- Magnification= x6000\n",
      "- Binning= (2, 2)\n",
      "- Scale (x,y)= (0.0038, 0.0038)\n",
      "- Scale Units= um\n",
      "- Dimension (x,y)= (2000, 2000)\n",
      "###### infilename MnS#4/6000X-0010(MnS-alpha).dm3\n",
      "###### Filename 6000X-0010(MnS-alpha).dm3\n"
     ]
    },
    {
     "name": "stderr",
     "output_type": "stream",
     "text": [
      "WARNING:hyperspy.io_plugins.digital_micrograph:Time string, PM 10:27:06,  could not be parsed\n"
     ]
    },
    {
     "name": "stdout",
     "output_type": "stream",
     "text": [
      "# Outfile = /workplace/01_KIER_Computational/04_Projects/2018_나노소재기술개발사업나노소재원천기술개발/190618_ImageMetadata/output.dir/MnS#4/6000X-0010(MnS-alpha).jpg\n",
      "scale_value= 2\n"
     ]
    },
    {
     "name": "stderr",
     "output_type": "stream",
     "text": [
      "WARNING:hyperspy.io_plugins.digital_micrograph:Time string, PM 2:26:50,  could not be parsed\n"
     ]
    },
    {
     "name": "stdout",
     "output_type": "stream",
     "text": [
      "### directory= MnS#5\n",
      "### file= 1000X-0008.dm3\n",
      "#----------------------\n",
      "Filename= 1000X-0008.dm3\n",
      "- Date= 2019-01-16\n",
      "- Time= PM 2:26:50\n",
      "\n",
      "Microscope= JEM 3010\n",
      "- Acquisition Mode= TEM\n",
      "- Imaging Mode= DIFF\n",
      "- Bean energy= 300.0 kV\n",
      "- Exposure Time= 1.0 s\n",
      "\n",
      "- Max Intensity= 16383.0 counts\n",
      "- Min Intensity= -99.0 counts\n",
      "- Magnification= x1000\n",
      "- Binning= (2, 2)\n",
      "- Scale (x,y)= (0.0120, 0.0120)\n",
      "- Scale Units= 1/nm\n",
      "- Dimension (x,y)= (2000, 2000)\n",
      "###### infilename MnS#5/1000X-0008.dm3\n",
      "###### Filename 1000X-0008.dm3\n"
     ]
    },
    {
     "name": "stderr",
     "output_type": "stream",
     "text": [
      "WARNING:hyperspy.io_plugins.digital_micrograph:Time string, PM 2:26:50,  could not be parsed\n"
     ]
    },
    {
     "name": "stdout",
     "output_type": "stream",
     "text": [
      "# Outfile = /workplace/01_KIER_Computational/04_Projects/2018_나노소재기술개발사업나노소재원천기술개발/190618_ImageMetadata/output.dir/MnS#5/1000X-0008.jpg\n",
      "scale_value= 5\n"
     ]
    },
    {
     "name": "stderr",
     "output_type": "stream",
     "text": [
      "WARNING:hyperspy.io_plugins.digital_micrograph:Time string, PM 2:27:33,  could not be parsed\n"
     ]
    },
    {
     "name": "stdout",
     "output_type": "stream",
     "text": [
      "### file= 30000X-0009.dm3\n",
      "#----------------------\n",
      "Filename= 30000X-0009.dm3\n",
      "- Date= 2019-01-16\n",
      "- Time= PM 2:27:33\n",
      "\n",
      "Microscope= JEM 3010\n",
      "- Acquisition Mode= TEM\n",
      "- Imaging Mode= MAG1\n",
      "- Bean energy= 300.0 kV\n",
      "- Exposure Time= 1.0 s\n",
      "\n",
      "- Max Intensity= 16383.0 counts\n",
      "- Min Intensity= -99.0 counts\n",
      "- Magnification= x30000\n",
      "- Binning= (2, 2)\n",
      "- Scale (x,y)= (0.7519, 0.7519)\n",
      "- Scale Units= nm\n",
      "- Dimension (x,y)= (2000, 2000)\n",
      "###### infilename MnS#5/30000X-0009.dm3\n",
      "###### Filename 30000X-0009.dm3\n"
     ]
    },
    {
     "name": "stderr",
     "output_type": "stream",
     "text": [
      "WARNING:hyperspy.io_plugins.digital_micrograph:Time string, PM 2:27:33,  could not be parsed\n"
     ]
    },
    {
     "name": "stdout",
     "output_type": "stream",
     "text": [
      "# Outfile = /workplace/01_KIER_Computational/04_Projects/2018_나노소재기술개발사업나노소재원천기술개발/190618_ImageMetadata/output.dir/MnS#5/30000X-0009.jpg\n",
      "scale_value= 200\n",
      "### directory= SEM\n",
      "### file= 1-1k_005.tif\n",
      "###### infilename SEM/1-1k_005.tif\n",
      "###### Filename 1-1k_005.tif\n",
      "# Outfile = /workplace/01_KIER_Computational/04_Projects/2018_나노소재기술개발사업나노소재원천기술개발/190618_ImageMetadata/output.dir/SEM/1-1k_005.jpg\n",
      "### file= 1-2500_014.tif\n",
      "###### infilename SEM/1-2500_014.tif\n",
      "###### Filename 1-2500_014.tif\n",
      "# Outfile = /workplace/01_KIER_Computational/04_Projects/2018_나노소재기술개발사업나노소재원천기술개발/190618_ImageMetadata/output.dir/SEM/1-2500_014.jpg\n",
      "### file= 1-2k_031.tif\n",
      "###### infilename SEM/1-2k_031.tif\n",
      "###### Filename 1-2k_031.tif\n",
      "# Outfile = /workplace/01_KIER_Computational/04_Projects/2018_나노소재기술개발사업나노소재원천기술개발/190618_ImageMetadata/output.dir/SEM/1-2k_031.jpg\n",
      "### file= 1-500_002.tif\n",
      "###### infilename SEM/1-500_002.tif\n",
      "###### Filename 1-500_002.tif\n",
      "# Outfile = /workplace/01_KIER_Computational/04_Projects/2018_나노소재기술개발사업나노소재원천기술개발/190618_ImageMetadata/output.dir/SEM/1-500_002.jpg\n",
      "### file= 1-50k.tif\n",
      "###### infilename SEM/1-50k.tif\n",
      "###### Filename 1-50k.tif\n",
      "# Outfile = /workplace/01_KIER_Computational/04_Projects/2018_나노소재기술개발사업나노소재원천기술개발/190618_ImageMetadata/output.dir/SEM/1-50k.jpg\n",
      "### file= 1_1.tif\n",
      "###### infilename SEM/1_1.tif\n",
      "###### Filename 1_1.tif\n",
      "# Outfile = /workplace/01_KIER_Computational/04_Projects/2018_나노소재기술개발사업나노소재원천기술개발/190618_ImageMetadata/output.dir/SEM/1_1.jpg\n",
      "### file= 1_2.tif\n",
      "###### infilename SEM/1_2.tif\n",
      "###### Filename 1_2.tif\n",
      "# Outfile = /workplace/01_KIER_Computational/04_Projects/2018_나노소재기술개발사업나노소재원천기술개발/190618_ImageMetadata/output.dir/SEM/1_2.jpg\n",
      "### file= 1_3.tif\n",
      "###### infilename SEM/1_3.tif\n",
      "###### Filename 1_3.tif\n",
      "# Outfile = /workplace/01_KIER_Computational/04_Projects/2018_나노소재기술개발사업나노소재원천기술개발/190618_ImageMetadata/output.dir/SEM/1_3.jpg\n",
      "### file= 1_8.tif\n",
      "###### infilename SEM/1_8.tif\n",
      "###### Filename 1_8.tif\n",
      "# Outfile = /workplace/01_KIER_Computational/04_Projects/2018_나노소재기술개발사업나노소재원천기술개발/190618_ImageMetadata/output.dir/SEM/1_8.jpg\n",
      "### file= 2-20k_035.tif\n",
      "###### infilename SEM/2-20k_035.tif\n",
      "###### Filename 2-20k_035.tif\n",
      "# Outfile = /workplace/01_KIER_Computational/04_Projects/2018_나노소재기술개발사업나노소재원천기술개발/190618_ImageMetadata/output.dir/SEM/2-20k_035.jpg\n",
      "### file= 3-250_018.tif\n",
      "###### infilename SEM/3-250_018.tif\n",
      "###### Filename 3-250_018.tif\n",
      "# Outfile = /workplace/01_KIER_Computational/04_Projects/2018_나노소재기술개발사업나노소재원천기술개발/190618_ImageMetadata/output.dir/SEM/3-250_018.jpg\n",
      "### file= 3_3.tif\n",
      "###### infilename SEM/3_3.tif\n",
      "###### Filename 3_3.tif\n",
      "# Outfile = /workplace/01_KIER_Computational/04_Projects/2018_나노소재기술개발사업나노소재원천기술개발/190618_ImageMetadata/output.dir/SEM/3_3.jpg\n",
      "### file= 3_4.tif\n",
      "###### infilename SEM/3_4.tif\n",
      "###### Filename 3_4.tif\n",
      "# Outfile = /workplace/01_KIER_Computational/04_Projects/2018_나노소재기술개발사업나노소재원천기술개발/190618_ImageMetadata/output.dir/SEM/3_4.jpg\n",
      "### file= 3_5.tif\n",
      "###### infilename SEM/3_5.tif\n",
      "###### Filename 3_5.tif\n",
      "# Outfile = /workplace/01_KIER_Computational/04_Projects/2018_나노소재기술개발사업나노소재원천기술개발/190618_ImageMetadata/output.dir/SEM/3_5.jpg\n",
      "### file= 4_3.tif\n",
      "###### infilename SEM/4_3.tif\n",
      "###### Filename 4_3.tif\n",
      "# Outfile = /workplace/01_KIER_Computational/04_Projects/2018_나노소재기술개발사업나노소재원천기술개발/190618_ImageMetadata/output.dir/SEM/4_3.jpg\n",
      "### file= 4_4.tif\n",
      "###### infilename SEM/4_4.tif\n",
      "###### Filename 4_4.tif\n",
      "# Outfile = /workplace/01_KIER_Computational/04_Projects/2018_나노소재기술개발사업나노소재원천기술개발/190618_ImageMetadata/output.dir/SEM/4_4.jpg\n",
      "### file= 4_6.tif\n",
      "###### infilename SEM/4_6.tif\n",
      "###### Filename 4_6.tif\n",
      "# Outfile = /workplace/01_KIER_Computational/04_Projects/2018_나노소재기술개발사업나노소재원천기술개발/190618_ImageMetadata/output.dir/SEM/4_6.jpg\n",
      "### file= Mus.-5k_024.tif\n",
      "###### infilename SEM/Mus.-5k_024.tif\n",
      "###### Filename Mus.-5k_024.tif\n",
      "# Outfile = /workplace/01_KIER_Computational/04_Projects/2018_나노소재기술개발사업나노소재원천기술개발/190618_ImageMetadata/output.dir/SEM/Mus.-5k_024.jpg\n",
      "### file= Mus.-800_019.tif\n",
      "###### infilename SEM/Mus.-800_019.tif\n",
      "###### Filename Mus.-800_019.tif\n",
      "# Outfile = /workplace/01_KIER_Computational/04_Projects/2018_나노소재기술개발사업나노소재원천기술개발/190618_ImageMetadata/output.dir/SEM/Mus.-800_019.jpg\n"
     ]
    }
   ],
   "source": [
    "# load .dm3 image\n",
    "\n",
    "# directories containing dm3 and tif files\n",
    "dirs = [file for file in os.listdir(pwd) ]\n",
    "imgdir = []\n",
    "\n",
    "for dirname in dirs:\n",
    "  if '.' not in dirname:\n",
    "    imgdir.append(dirname)\n",
    "\n",
    "for d in imgdir:\n",
    "  # dm3 and tif files\n",
    "  print('### directory= {}'.format(d))\n",
    "  files = [file for file in os.listdir(d) ]\n",
    "  imgfiles = [file for file in files if (file.endswith('.dm3') or file.endswith('.tiff') or file.endswith('tif'))]\n",
    "  \n",
    "  for f in imgfiles:\n",
    "    print('### file= {}'.format(f))\n",
    "    \n",
    "    # Main part\n",
    "    infilename = os.path.join(d,f)    # 1. define file name with directory\n",
    "    imgdata = extmeta(infilename)    # 2. extract meta data\n",
    "    outfilename, outfilename_sb = imgproc(infilename, imgdata)    # 3. Image Processing (Auto Contrast, add Scale bar)\n",
    "    addmeta(outfilename, imgdata)    # 4-1. Add meta data on image only\n",
    "    addmeta(outfilename_sb, imgdata)    # 4-2. Add meta data on image with scale bar"
   ]
  },
  {
   "cell_type": "code",
   "execution_count": null,
   "metadata": {},
   "outputs": [],
   "source": []
  }
 ],
 "metadata": {
  "kernelspec": {
   "display_name": "Python 3",
   "language": "python",
   "name": "python3"
  },
  "language_info": {
   "codemirror_mode": {
    "name": "ipython",
    "version": 3
   },
   "file_extension": ".py",
   "mimetype": "text/x-python",
   "name": "python",
   "nbconvert_exporter": "python",
   "pygments_lexer": "ipython3",
   "version": "3.7.4"
  }
 },
 "nbformat": 4,
 "nbformat_minor": 4
}
